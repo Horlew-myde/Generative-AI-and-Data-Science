{
 "cells": [
  {
   "cell_type": "code",
   "execution_count": 5,
   "id": "f9910f9b-38de-48b2-b5c5-28d1d5bb4025",
   "metadata": {},
   "outputs": [],
   "source": [
    "import pandas as pd\n",
    "import numpy as np\n",
    "\n",
    "# Load the dataset from directory\n",
    "data = pd.read_csv('Video_Games_Sales_as_at_22_Dec_2016.csv')"
   ]
  },
  {
   "cell_type": "code",
   "execution_count": 3,
   "id": "7c25e9d4-47bf-4169-889a-79ac78cb37f3",
   "metadata": {},
   "outputs": [
    {
     "name": "stdout",
     "output_type": "stream",
     "text": [
      "                       Name Platform  Year_of_Release         Genre Publisher  \\\n",
      "0                Wii Sports      Wii           2006.0        Sports  Nintendo   \n",
      "1         Super Mario Bros.      NES           1985.0      Platform  Nintendo   \n",
      "2            Mario Kart Wii      Wii           2008.0        Racing  Nintendo   \n",
      "3         Wii Sports Resort      Wii           2009.0        Sports  Nintendo   \n",
      "4  Pokemon Red/Pokemon Blue       GB           1996.0  Role-Playing  Nintendo   \n",
      "\n",
      "   NA_Sales  EU_Sales  JP_Sales  Other_Sales  Global_Sales  Critic_Score  \\\n",
      "0     41.36     28.96      3.77         8.45         82.53          76.0   \n",
      "1     29.08      3.58      6.81         0.77         40.24           NaN   \n",
      "2     15.68     12.76      3.79         3.29         35.52          82.0   \n",
      "3     15.61     10.93      3.28         2.95         32.77          80.0   \n",
      "4     11.27      8.89     10.22         1.00         31.37           NaN   \n",
      "\n",
      "   Critic_Count User_Score  User_Count Developer Rating  \n",
      "0          51.0          8       322.0  Nintendo      E  \n",
      "1           NaN        NaN         NaN       NaN    NaN  \n",
      "2          73.0        8.3       709.0  Nintendo      E  \n",
      "3          73.0          8       192.0  Nintendo      E  \n",
      "4           NaN        NaN         NaN       NaN    NaN  \n"
     ]
    }
   ],
   "source": [
    "print(data.head())"
   ]
  },
  {
   "cell_type": "code",
   "execution_count": 7,
   "id": "64a3f07e-b83f-481e-a214-d932ef5c1560",
   "metadata": {},
   "outputs": [],
   "source": [
    "# Convert User_Score to a numeric type, turning errors ('tbd') into NaN (Not a Number)\n",
    "data['User_Score'] = pd.to_numeric(data['User_Score'], errors='coerce')\n",
    "\n",
    "# drop rows where key metrics are missing\n",
    "data.dropna(subset=['Year_of_Release', 'Critic_Score', 'User_Score', 'Publisher'], inplace=True)"
   ]
  },
  {
   "cell_type": "code",
   "execution_count": 9,
   "id": "d193157c-22ce-4bb9-835e-06e133e38492",
   "metadata": {},
   "outputs": [
    {
     "name": "stdout",
     "output_type": "stream",
     "text": [
      "                    Name Platform  Year_of_Release     Genre Publisher  \\\n",
      "0             Wii Sports      Wii           2006.0    Sports  Nintendo   \n",
      "2         Mario Kart Wii      Wii           2008.0    Racing  Nintendo   \n",
      "3      Wii Sports Resort      Wii           2009.0    Sports  Nintendo   \n",
      "6  New Super Mario Bros.       DS           2006.0  Platform  Nintendo   \n",
      "7               Wii Play      Wii           2006.0      Misc  Nintendo   \n",
      "\n",
      "   NA_Sales  EU_Sales  JP_Sales  Other_Sales  Global_Sales  Critic_Score  \\\n",
      "0     41.36     28.96      3.77         8.45         82.53          76.0   \n",
      "2     15.68     12.76      3.79         3.29         35.52          82.0   \n",
      "3     15.61     10.93      3.28         2.95         32.77          80.0   \n",
      "6     11.28      9.14      6.50         2.88         29.80          89.0   \n",
      "7     13.96      9.18      2.93         2.84         28.92          58.0   \n",
      "\n",
      "   Critic_Count  User_Score  User_Count Developer Rating  \n",
      "0          51.0         8.0       322.0  Nintendo      E  \n",
      "2          73.0         8.3       709.0  Nintendo      E  \n",
      "3          73.0         8.0       192.0  Nintendo      E  \n",
      "6          65.0         8.5       431.0  Nintendo      E  \n",
      "7          41.0         6.6       129.0  Nintendo      E  \n"
     ]
    }
   ],
   "source": [
    "print(data.head())"
   ]
  },
  {
   "cell_type": "code",
   "execution_count": 11,
   "id": "e090026d-34de-4792-a90b-09c2e7fffbc2",
   "metadata": {},
   "outputs": [
    {
     "name": "stdout",
     "output_type": "stream",
     "text": [
      "<class 'pandas.core.frame.DataFrame'>\n",
      "Index: 6893 entries, 0 to 16709\n",
      "Data columns (total 16 columns):\n",
      " #   Column           Non-Null Count  Dtype  \n",
      "---  ------           --------------  -----  \n",
      " 0   Name             6893 non-null   object \n",
      " 1   Platform         6893 non-null   object \n",
      " 2   Year_of_Release  6893 non-null   float64\n",
      " 3   Genre            6893 non-null   object \n",
      " 4   Publisher        6893 non-null   object \n",
      " 5   NA_Sales         6893 non-null   float64\n",
      " 6   EU_Sales         6893 non-null   float64\n",
      " 7   JP_Sales         6893 non-null   float64\n",
      " 8   Other_Sales      6893 non-null   float64\n",
      " 9   Global_Sales     6893 non-null   float64\n",
      " 10  Critic_Score     6893 non-null   float64\n",
      " 11  Critic_Count     6893 non-null   float64\n",
      " 12  User_Score       6893 non-null   float64\n",
      " 13  User_Count       6893 non-null   float64\n",
      " 14  Developer        6889 non-null   object \n",
      " 15  Rating           6825 non-null   object \n",
      "dtypes: float64(10), object(6)\n",
      "memory usage: 915.5+ KB\n",
      "None\n"
     ]
    }
   ],
   "source": [
    "print(data.info())"
   ]
  },
  {
   "cell_type": "code",
   "execution_count": 13,
   "id": "8ede2cab-156f-48bc-8e9b-0e287fb0abf9",
   "metadata": {},
   "outputs": [
    {
     "name": "stdout",
     "output_type": "stream",
     "text": [
      "       Year_of_Release     NA_Sales     EU_Sales     JP_Sales  Other_Sales  \\\n",
      "count      6893.000000  6893.000000  6893.000000  6893.000000  6893.000000   \n",
      "mean       2007.481793     0.390968     0.234536     0.063876     0.082012   \n",
      "std           4.236497     0.963293     0.684262     0.286481     0.268637   \n",
      "min        1985.000000     0.000000     0.000000     0.000000     0.000000   \n",
      "25%        2004.000000     0.060000     0.020000     0.000000     0.010000   \n",
      "50%        2007.000000     0.150000     0.060000     0.000000     0.020000   \n",
      "75%        2011.000000     0.390000     0.210000     0.010000     0.070000   \n",
      "max        2016.000000    41.360000    28.960000     6.500000    10.570000   \n",
      "\n",
      "       Global_Sales  Critic_Score  Critic_Count   User_Score    User_Count  \n",
      "count   6893.000000   6893.000000   6893.000000  6893.000000   6893.000000  \n",
      "mean       0.771576     70.261860     28.842449     7.184985    174.366894  \n",
      "std        1.954908     13.859256     19.195964     1.439028    584.910760  \n",
      "min        0.010000     13.000000      3.000000     0.500000      4.000000  \n",
      "25%        0.110000     62.000000     14.000000     6.500000     11.000000  \n",
      "50%        0.290000     72.000000     24.000000     7.500000     27.000000  \n",
      "75%        0.750000     80.000000     39.000000     8.200000     89.000000  \n",
      "max       82.530000     98.000000    113.000000     9.600000  10665.000000  \n"
     ]
    }
   ],
   "source": [
    "print(data.describe())"
   ]
  },
  {
   "cell_type": "code",
   "execution_count": null,
   "id": "35d46f6b-8620-45ec-8103-b566ed7e83c7",
   "metadata": {},
   "outputs": [],
   "source": []
  },
  {
   "cell_type": "code",
   "execution_count": 15,
   "id": "b9c3d74d-0f6b-4ea9-b6cd-d1cb40cdfb97",
   "metadata": {},
   "outputs": [
    {
     "name": "stdout",
     "output_type": "stream",
     "text": [
      "         Global_Sales  Critic_Score  User_Score  User_Count\n",
      "mean             0.77         70.26        7.18      174.37\n",
      "median           0.29         72.00        7.50       27.00\n",
      "mode             0.02         80.00        7.80        6.00\n",
      "std_dev          1.95         13.86        1.44      584.91\n"
     ]
    }
   ],
   "source": [
    "# Select columns for our analysis\n",
    "analysis_cols = ['Global_Sales', 'Critic_Score', 'User_Score', 'User_Count']\n",
    "stats_df = pd.DataFrame(index=['mean', 'median', 'mode', 'std_dev'])\n",
    "\n",
    "for col in analysis_cols:\n",
    "    stats_df[col] = [\n",
    "        data[col].mean(),\n",
    "        data[col].median(),\n",
    "        data[col].mode()[0],\n",
    "        data[col].std()\n",
    "    ]\n",
    "\n",
    "print(stats_df.round(2))"
   ]
  },
  {
   "cell_type": "markdown",
   "id": "9b915b60-2eb1-4265-ae4a-cdf17d9bcfe7",
   "metadata": {},
   "source": [
    "## Correlation Between Features"
   ]
  },
  {
   "cell_type": "code",
   "execution_count": 19,
   "id": "091da0f1-2744-43bc-8caf-95e53724d944",
   "metadata": {},
   "outputs": [
    {
     "name": "stdout",
     "output_type": "stream",
     "text": [
      "              Global_Sales  Critic_Score  Critic_Count  User_Score  User_Count\n",
      "Global_Sales      1.000000      0.237057      0.290678    0.088329    0.264008\n",
      "Critic_Score      0.237057      1.000000      0.394976    0.579437    0.265660\n",
      "Critic_Count      0.290678      0.394976      1.000000    0.194814    0.365507\n",
      "User_Score        0.088329      0.579437      0.194814    1.000000    0.018643\n",
      "User_Count        0.264008      0.265660      0.365507    0.018643    1.000000\n"
     ]
    }
   ],
   "source": [
    "# Using numerical columns for correlation calculation\n",
    "numerical_data = data[['Global_Sales', 'Critic_Score', 'Critic_Count', 'User_Score', 'User_Count']]\n",
    "\n",
    "print(numerical_data.corr())"
   ]
  },
  {
   "cell_type": "code",
   "execution_count": null,
   "id": "96ae23d8-a6d7-49cb-af9f-75dbb09b1590",
   "metadata": {},
   "outputs": [],
   "source": []
  }
 ],
 "metadata": {
  "kernelspec": {
   "display_name": "Python [conda env:base] *",
   "language": "python",
   "name": "conda-base-py"
  },
  "language_info": {
   "codemirror_mode": {
    "name": "ipython",
    "version": 3
   },
   "file_extension": ".py",
   "mimetype": "text/x-python",
   "name": "python",
   "nbconvert_exporter": "python",
   "pygments_lexer": "ipython3",
   "version": "3.12.7"
  }
 },
 "nbformat": 4,
 "nbformat_minor": 5
}

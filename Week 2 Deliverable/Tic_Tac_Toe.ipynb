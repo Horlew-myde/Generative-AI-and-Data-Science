{
 "cells": [
  {
   "cell_type": "code",
   "execution_count": 10,
   "id": "115ad6e8-d228-4469-b08b-cabb094e217e",
   "metadata": {},
   "outputs": [],
   "source": [
    "#Setup and Display Function\n",
    "import random\n",
    "\n",
    "def show_grid(current_grid):\n",
    "    \"\"\"A simple function to print the 3x3 game grid.\"\"\"\n",
    "    print(f\" {current_grid[0]} | {current_grid[1]} | {current_grid[2]} \")\n",
    "    print(\"---|---|---\")\n",
    "    print(f\" {current_grid[3]} | {current_grid[4]} | {current_grid[5]} \")\n",
    "    print(\"---|---|---\")\n",
    "    print(f\" {current_grid[6]} | {current_grid[7]} | {current_grid[8]} \")"
   ]
  },
  {
   "cell_type": "code",
   "execution_count": null,
   "id": "fda0850f-afae-47a4-8713-ba3da38c67cf",
   "metadata": {},
   "outputs": [],
   "source": []
  },
  {
   "cell_type": "code",
   "execution_count": 11,
   "id": "53104e3c-dc24-4215-8c40-0c90ef1c0b83",
   "metadata": {},
   "outputs": [],
   "source": [
    "#Game Logic Functions\n",
    "\n",
    "def is_winner(grid, symbol):\n",
    "    \"\"\"Checks if a player with a given symbol ('X' or 'O') has won.\"\"\"\n",
    "    # All possible winning lines (rows, columns, diagonals)\n",
    "    winning_lines = [\n",
    "        [0, 1, 2], [3, 4, 5], [6, 7, 8], # Rows\n",
    "        [0, 3, 6], [1, 4, 7], [2, 5, 8], # Columns\n",
    "        [0, 4, 8], [2, 4, 6]             # Diagonals\n",
    "    ]\n",
    "    for line in winning_lines:\n",
    "        if all(grid[spot] == symbol for spot in line):\n",
    "            return True\n",
    "    return False\n",
    "\n",
    "def is_grid_full(grid):\n",
    "    \"\"\"Checks if there are any empty spaces left on the grid.\"\"\"\n",
    "    return ' ' not in grid"
   ]
  },
  {
   "cell_type": "code",
   "execution_count": 12,
   "id": "b6b1ec8e-b9bb-4c96-94c8-9733dd92011d",
   "metadata": {},
   "outputs": [],
   "source": [
    "#Computer Player's Brain\n",
    "\n",
    "def computer_turn(grid):\n",
    "    \"\"\"Determines the best move for the computer ('O').\"\"\"\n",
    "    \n",
    "    # 1. Check for a winning move\n",
    "    for spot in range(9):\n",
    "        if grid[spot] == ' ':\n",
    "            grid[spot] = 'O'\n",
    "            if is_winner(grid, 'O'):\n",
    "                return spot\n",
    "            grid[spot] = ' ' # Reset the spot\n",
    "\n",
    "    # 2. Check to block the player's winning move\n",
    "    for spot in range(9):\n",
    "        if grid[spot] == ' ':\n",
    "            grid[spot] = 'X'\n",
    "            if is_winner(grid, 'X'):\n",
    "                grid[spot] = ' ' # Reset before returning\n",
    "                return spot\n",
    "            grid[spot] = ' ' # Reset the spot\n",
    "\n",
    "    # 3. Pick a strategic spot (corners, then center, then sides)\n",
    "    corner_spots = [0, 2, 6, 8]\n",
    "    available_corners = [spot for spot in corner_spots if grid[spot] == ' ']\n",
    "    if available_corners:\n",
    "        return random.choice(available_corners)\n",
    "\n",
    "    if grid[4] == ' ':\n",
    "        return 4\n",
    "\n",
    "    side_spots = [1, 3, 5, 7]\n",
    "    available_sides = [spot for spot in side_spots if grid[spot] == ' ']\n",
    "    if available_sides:\n",
    "        return random.choice(available_sides)\n",
    "    \n",
    "    return None # Should not happen if game is not a tie"
   ]
  },
  {
   "cell_type": "code",
   "execution_count": 13,
   "id": "659b2e51-ce22-4458-a7cb-61b46182433e",
   "metadata": {},
   "outputs": [
    {
     "name": "stdout",
     "output_type": "stream",
     "text": [
      "Welcome to Tic-Tac-Toe! You are 'X'.\n",
      "   |   |   \n",
      "---|---|---\n",
      "   |   |   \n",
      "---|---|---\n",
      "   |   |   \n"
     ]
    },
    {
     "name": "stdin",
     "output_type": "stream",
     "text": [
      "Enter your move (a number 1-9):  1\n"
     ]
    },
    {
     "name": "stdout",
     "output_type": "stream",
     "text": [
      " X |   |   \n",
      "---|---|---\n",
      "   |   |   \n",
      "---|---|---\n",
      "   |   |   \n",
      "Computer is thinking...\n",
      "Computer chose position 9.\n",
      " X |   |   \n",
      "---|---|---\n",
      "   |   |   \n",
      "---|---|---\n",
      "   |   | O \n"
     ]
    },
    {
     "name": "stdin",
     "output_type": "stream",
     "text": [
      "Enter your move (a number 1-9):  7\n"
     ]
    },
    {
     "name": "stdout",
     "output_type": "stream",
     "text": [
      " X |   |   \n",
      "---|---|---\n",
      "   |   |   \n",
      "---|---|---\n",
      " X |   | O \n",
      "Computer is thinking...\n",
      "Computer chose position 4.\n",
      " X |   |   \n",
      "---|---|---\n",
      " O |   |   \n",
      "---|---|---\n",
      " X |   | O \n"
     ]
    },
    {
     "name": "stdin",
     "output_type": "stream",
     "text": [
      "Enter your move (a number 1-9):  3\n"
     ]
    },
    {
     "name": "stdout",
     "output_type": "stream",
     "text": [
      " X |   | X \n",
      "---|---|---\n",
      " O |   |   \n",
      "---|---|---\n",
      " X |   | O \n",
      "Computer is thinking...\n",
      "Computer chose position 2.\n",
      " X | O | X \n",
      "---|---|---\n",
      " O |   |   \n",
      "---|---|---\n",
      " X |   | O \n"
     ]
    },
    {
     "name": "stdin",
     "output_type": "stream",
     "text": [
      "Enter your move (a number 1-9):  5\n"
     ]
    },
    {
     "name": "stdout",
     "output_type": "stream",
     "text": [
      " X | O | X \n",
      "---|---|---\n",
      " O | X |   \n",
      "---|---|---\n",
      " X |   | O \n",
      "Game Over! Player 'X' wins! 🎉\n"
     ]
    }
   ],
   "source": [
    "#Start the Game!\n",
    "\n",
    "def play_tictactoe():\n",
    "    \"\"\"The main loop that runs the Tic-Tac-Toe game.\"\"\"\n",
    "    game_grid = [' ' for _ in range(9)]\n",
    "    active_player = 'X'\n",
    "    print(\"Welcome to Tic-Tac-Toe! You are 'X'.\")\n",
    "    \n",
    "    while True:\n",
    "        show_grid(game_grid)\n",
    "        \n",
    "        if active_player == 'X': # Your turn\n",
    "            try:\n",
    "                choice = int(input(\"Enter your move (a number 1-9): \")) - 1\n",
    "                if 0 <= choice <= 8 and game_grid[choice] == ' ':\n",
    "                    game_grid[choice] = 'X'\n",
    "                else:\n",
    "                    print(\"Oops! That spot is taken or invalid. Try again.\")\n",
    "                    continue\n",
    "            except ValueError:\n",
    "                print(\"Please enter a valid number (1-9).\")\n",
    "                continue\n",
    "        else: # Computer's turn\n",
    "            print(\"Computer is thinking...\")\n",
    "            move = computer_turn(game_grid)\n",
    "            game_grid[move] = 'O'\n",
    "            print(f\"Computer chose position {move + 1}.\")\n",
    "            \n",
    "        # Check for winner\n",
    "        if is_winner(game_grid, active_player):\n",
    "            show_grid(game_grid)\n",
    "            print(f\"Game Over! Player '{active_player}' wins! 🎉\")\n",
    "            break\n",
    "            \n",
    "        # Check for a tie\n",
    "        if is_grid_full(game_grid):\n",
    "            show_grid(game_grid)\n",
    "            print(\"Game Over! It's a tie! 🤝\")\n",
    "            break\n",
    "            \n",
    "        # Switch to the other player\n",
    "        active_player = 'O' if active_player == 'X' else 'X'\n",
    "\n",
    "# --- Let's play! ---\n",
    "play_tictactoe()"
   ]
  }
 ],
 "metadata": {
  "kernelspec": {
   "display_name": "Python [conda env:base] *",
   "language": "python",
   "name": "conda-base-py"
  },
  "language_info": {
   "codemirror_mode": {
    "name": "ipython",
    "version": 3
   },
   "file_extension": ".py",
   "mimetype": "text/x-python",
   "name": "python",
   "nbconvert_exporter": "python",
   "pygments_lexer": "ipython3",
   "version": "3.12.7"
  }
 },
 "nbformat": 4,
 "nbformat_minor": 5
}
